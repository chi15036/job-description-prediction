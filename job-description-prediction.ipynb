{
 "cells": [
  {
   "cell_type": "code",
   "execution_count": 1,
   "metadata": {},
   "outputs": [],
   "source": [
    "import pandas as pd\n",
    "import numpy as np\n",
    "import seaborn\n",
    "import re\n",
    "import os\n",
    "import xgboost as xgb\n",
    "import matplotlib.pyplot as plt\n",
    "import shap\n",
    "import warnings\n",
    "warnings.filterwarnings(\"ignore\")\n",
    "\n",
    "from xgboost import plot_importance\n",
    "from sklearn.model_selection import train_test_split\n",
    "from sklearn.metrics import (roc_auc_score, \n",
    "                             precision_recall_curve, \n",
    "                             average_precision_score, \n",
    "                             mean_squared_error)"
   ]
  },
  {
   "cell_type": "code",
   "execution_count": 3,
   "metadata": {},
   "outputs": [
    {
     "data": {
      "text/plain": [
       "Index(['job_id', 'title', 'location', 'department', 'salary_range',\n",
       "       'company_profile', 'description', 'requirements', 'benefits',\n",
       "       'telecommuting', 'has_company_logo', 'has_questions', 'employment_type',\n",
       "       'required_experience', 'required_education', 'industry', 'function',\n",
       "       'fraudulent'],\n",
       "      dtype='object')"
      ]
     },
     "execution_count": 3,
     "metadata": {},
     "output_type": "execute_result"
    }
   ],
   "source": [
    "job_posting = pd.read_csv('csv/job_postings_training_set.csv')\n",
    "job_posting.columns"
   ]
  },
  {
   "cell_type": "markdown",
   "metadata": {},
   "source": [
    "## 將特徵區分為下述幾種類型\n",
    "* 數值型 (numerical)\n",
    "* 文本型 (textual)\n",
    "* 類別型 (categorical)"
   ]
  },
  {
   "cell_type": "code",
   "execution_count": 32,
   "metadata": {},
   "outputs": [],
   "source": [
    "numerical = job_posting.select_dtypes(include=['number'])\n",
    "categorical = job_posting.select_dtypes(include=['object'])"
   ]
  },
  {
   "cell_type": "code",
   "execution_count": 33,
   "metadata": {},
   "outputs": [
    {
     "name": "stdout",
     "output_type": "stream",
     "text": [
      "categorical value distribution:\n",
      "\n",
      " title                  11188\n",
      "location                3097\n",
      "department              1337\n",
      "salary_range             874\n",
      "company_profile         1707\n",
      "description            14677\n",
      "requirements           11881\n",
      "benefits                6131\n",
      "employment_type            5\n",
      "required_experience        7\n",
      "required_education        13\n",
      "industry                 131\n",
      "function                  37\n",
      "dtype: int64\n",
      "\n",
      "numerical value distribution:\n",
      "\n",
      " job_id              17828\n",
      "telecommuting           2\n",
      "has_company_logo        2\n",
      "has_questions           2\n",
      "fraudulent              2\n",
      "dtype: int64\n",
      "\n"
     ]
    }
   ],
   "source": [
    "print(f'categorical value distribution:\\n\\n {categorical.nunique()}\\n')\n",
    "print(f'numerical value distribution:\\n\\n {numerical.nunique()}\\n')"
   ]
  },
  {
   "cell_type": "markdown",
   "metadata": {},
   "source": [
    "# TODO\n",
    "1. 將 categorical features 以內容平均長度高切割出 textual feature\n",
    "2. 將 value difference 數量少於 100 的做單因子 & 關聯性觀察\n",
    "3. 將 value difference 大於 100 的 features 做各別前處理\n",
    "4. 將 3 前處理過的可用 features 做單因子 & 關聯性觀察"
   ]
  },
  {
   "cell_type": "code",
   "execution_count": null,
   "metadata": {},
   "outputs": [],
   "source": []
  },
  {
   "cell_type": "code",
   "execution_count": null,
   "metadata": {},
   "outputs": [],
   "source": []
  }
 ],
 "metadata": {
  "kernelspec": {
   "display_name": "venv",
   "language": "python",
   "name": "venv"
  },
  "language_info": {
   "codemirror_mode": {
    "name": "ipython",
    "version": 3
   },
   "file_extension": ".py",
   "mimetype": "text/x-python",
   "name": "python",
   "nbconvert_exporter": "python",
   "pygments_lexer": "ipython3",
   "version": "3.6.13"
  }
 },
 "nbformat": 4,
 "nbformat_minor": 2
}
